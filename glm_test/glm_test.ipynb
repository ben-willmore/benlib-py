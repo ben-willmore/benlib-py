{
 "cells": [
  {
   "cell_type": "code",
   "execution_count": 115,
   "id": "56d44cd2",
   "metadata": {},
   "outputs": [],
   "source": [
    "import pickle\n",
    "from csv import reader, writer\n",
    "from benlib.glm import *"
   ]
  },
  {
   "cell_type": "code",
   "execution_count": 128,
   "id": "0b8e3b86",
   "metadata": {},
   "outputs": [],
   "source": [
    "def load_csv(filename):\n",
    "    x = []\n",
    "    with open(filename, 'r') as csvfile:\n",
    "        rdr = reader(csvfile)\n",
    "        for row in rdr:\n",
    "            x.append([float(r) for r in row])\n",
    "    return np.array(x)\n",
    "\n",
    "def save_csv(x, filename):\n",
    "    with open(filename, 'w') as csvfile:\n",
    "        wrtr = writer(csvfile)\n",
    "        for row in x:\n",
    "            wrtr.writerow(row)\n",
    "\n",
    "n_f = 25\n",
    "n_h = 8\n",
    "\n",
    "X_t_fh = load_csv('cvglmnet_test_X.csv')\n",
    "\n",
    "n_t = X_t_fh.shape[0]\n",
    "X_tfh = X_t_fh.reshape(n_t, n_f, n_h)\n",
    "\n",
    "y = np.squeeze(load_csv('cvglmnet_test_y.csv'))\n",
    "y_hat_check = np.squeeze(load_csv('cvglmnet_test_y_hat.csv'))\n",
    "train_scores_check = np.squeeze(load_csv('cvglmnet_test_train_scores.csv'))\n",
    "test_scores_check = np.squeeze(load_csv('cvglmnet_test_test_scores.csv'))"
   ]
  },
  {
   "cell_type": "code",
   "execution_count": 129,
   "id": "f8b48d87",
   "metadata": {},
   "outputs": [
    {
     "name": "stdout",
     "output_type": "stream",
     "text": [
      "Fitting with CVGLMnet...\n",
      "Using 10 sequential folds for cross-validation\n"
     ]
    },
    {
     "name": "stderr",
     "output_type": "stream",
     "text": [
      "[status]\tParallel glmnet cv with 10 cores\n"
     ]
    },
    {
     "name": "stdout",
     "output_type": "stream",
     "text": [
      "Refitting with best lambda on whole training set\n",
      "Using 10 sequential folds for cross-validation\n"
     ]
    },
    {
     "name": "stderr",
     "output_type": "stream",
     "text": [
      "[status]\tParallel glmnet cv with 10 cores\n"
     ]
    },
    {
     "name": "stdout",
     "output_type": "stream",
     "text": [
      "Refitting with best lambda on whole training set\n",
      "Using 10 sequential folds for cross-validation\n"
     ]
    },
    {
     "name": "stderr",
     "output_type": "stream",
     "text": [
      "[status]\tParallel glmnet cv with 10 cores\n"
     ]
    },
    {
     "name": "stdout",
     "output_type": "stream",
     "text": [
      "Refitting with best lambda on whole training set\n",
      "Using 10 sequential folds for cross-validation\n"
     ]
    },
    {
     "name": "stderr",
     "output_type": "stream",
     "text": [
      "[status]\tParallel glmnet cv with 10 cores\n"
     ]
    },
    {
     "name": "stdout",
     "output_type": "stream",
     "text": [
      "Refitting with best lambda on whole training set\n",
      "Using 10 sequential folds for cross-validation\n"
     ]
    },
    {
     "name": "stderr",
     "output_type": "stream",
     "text": [
      "[status]\tParallel glmnet cv with 10 cores\n"
     ]
    },
    {
     "name": "stdout",
     "output_type": "stream",
     "text": [
      "Refitting with best lambda on whole training set\n",
      "Using 10 sequential folds for cross-validation\n"
     ]
    },
    {
     "name": "stderr",
     "output_type": "stream",
     "text": [
      "[status]\tParallel glmnet cv with 10 cores\n"
     ]
    },
    {
     "name": "stdout",
     "output_type": "stream",
     "text": [
      "Refitting with best lambda on whole training set\n",
      "Using 10 sequential folds for cross-validation\n"
     ]
    },
    {
     "name": "stderr",
     "output_type": "stream",
     "text": [
      "[status]\tParallel glmnet cv with 10 cores\n"
     ]
    },
    {
     "name": "stdout",
     "output_type": "stream",
     "text": [
      "Refitting with best lambda on whole training set\n",
      "Using 10 sequential folds for cross-validation\n"
     ]
    },
    {
     "name": "stderr",
     "output_type": "stream",
     "text": [
      "[status]\tParallel glmnet cv with 10 cores\n"
     ]
    },
    {
     "name": "stdout",
     "output_type": "stream",
     "text": [
      "Refitting with best lambda on whole training set\n",
      "Using 10 sequential folds for cross-validation\n"
     ]
    },
    {
     "name": "stderr",
     "output_type": "stream",
     "text": [
      "[status]\tParallel glmnet cv with 10 cores\n"
     ]
    },
    {
     "name": "stdout",
     "output_type": "stream",
     "text": [
      "Refitting with best lambda on whole training set\n",
      "Using 10 sequential folds for cross-validation\n"
     ]
    },
    {
     "name": "stderr",
     "output_type": "stream",
     "text": [
      "[status]\tParallel glmnet cv with 10 cores\n"
     ]
    },
    {
     "name": "stdout",
     "output_type": "stream",
     "text": [
      "Refitting with best lambda on whole training set\n",
      "[0.4682102245059006, 0.47400384174639504, 0.4622965626925786, 0.469275157081933, 0.46096343991818023, 0.47112922428386994, 0.4672439336936833, 0.4727721256036528, 0.4737993923863963, 0.4714265485790933]\n",
      "Done\n",
      "Checking results against csv...\n",
      "All OK\n",
      "Saving fits to pickle...\n",
      "Done\n"
     ]
    }
   ],
   "source": [
    "save_results_to_csv = False\n",
    "\n",
    "folds = select_folds(n_t, 10)\n",
    "\n",
    "print('Fitting with CVGLMnet...')\n",
    "cvglm = CVGLMnet()\n",
    "\n",
    "fits = []\n",
    "y_hats = []\n",
    "test_scores = []\n",
    "train_scores = []\n",
    "for train_idx, test_idx in folds:\n",
    "    cvglm.fit(X_t_fh[train_idx,:], y[train_idx])\n",
    "    fits.append(cvglm.dump())\n",
    "    y_hats.append(cvglm.predict(X_t_fh))\n",
    "    train_scores.append(cvglm.score(X_t_fh[train_idx, :], y[train_idx]))\n",
    "    test_scores.append(cvglm.score(X_t_fh[test_idx, :], y[test_idx]))\n",
    "print(train_scores)\n",
    "y_hat = np.vstack(y_hats)\n",
    "print('Done')\n",
    "\n",
    "if save_results_to_csv:\n",
    "    print('Saving results to csv...')\n",
    "    save_csv(y_hat, 'cvglmnet_test_y_hat.csv')\n",
    "    save_csv([train_scores], 'cvglmnet_test_train_scores.csv')\n",
    "    save_csv([test_scores], 'cvglmnet_test_test_scores.csv')\n",
    "\n",
    "else:\n",
    "    print('Checking results against csv...')\n",
    "    assert(np.all(y_hat-y_hat_check<1e-12))\n",
    "    assert(all([(a-b)<1e-12 for a,b in zip(train_scores, train_scores_check)]))\n",
    "    assert(all([(a-b)<1e-12 for a,b in zip(test_scores, test_scores_check)]))\n",
    "\n",
    "    print('All OK')\n",
    "\n",
    "print('Saving fits to pickle...')\n",
    "with open('results.pkl', 'wb') as pkl:\n",
    "    pickle.dump(fits, pkl)\n",
    "print('Done')"
   ]
  },
  {
   "cell_type": "code",
   "execution_count": 130,
   "id": "554e25f9",
   "metadata": {},
   "outputs": [
    {
     "name": "stdout",
     "output_type": "stream",
     "text": [
      "Loading fits from pickle...\n",
      "Done\n",
      "Checking loaded fits are the same as the originals...\n",
      "[0.4682102245059006, 0.47400384174639504, 0.4622965626925786, 0.469275157081933, 0.46096343991818023, 0.47112922428386994, 0.4672439336936833, 0.4727721256036528, 0.4737993923863963, 0.4714265485790933]\n",
      "All OK\n",
      "Fitting with CVGLMnet_tfh...\n",
      "Using 10 sequential folds for cross-validation\n"
     ]
    },
    {
     "name": "stderr",
     "output_type": "stream",
     "text": [
      "[status]\tParallel glmnet cv with 10 cores\n"
     ]
    },
    {
     "name": "stdout",
     "output_type": "stream",
     "text": [
      "Refitting with best lambda on whole training set\n",
      "Using 10 sequential folds for cross-validation\n"
     ]
    },
    {
     "name": "stderr",
     "output_type": "stream",
     "text": [
      "[status]\tParallel glmnet cv with 10 cores\n"
     ]
    },
    {
     "name": "stdout",
     "output_type": "stream",
     "text": [
      "Refitting with best lambda on whole training set\n",
      "Using 10 sequential folds for cross-validation\n"
     ]
    },
    {
     "name": "stderr",
     "output_type": "stream",
     "text": [
      "[status]\tParallel glmnet cv with 10 cores\n"
     ]
    },
    {
     "name": "stdout",
     "output_type": "stream",
     "text": [
      "Refitting with best lambda on whole training set\n",
      "Using 10 sequential folds for cross-validation\n"
     ]
    },
    {
     "name": "stderr",
     "output_type": "stream",
     "text": [
      "[status]\tParallel glmnet cv with 10 cores\n"
     ]
    },
    {
     "name": "stdout",
     "output_type": "stream",
     "text": [
      "Refitting with best lambda on whole training set\n",
      "Using 10 sequential folds for cross-validation\n"
     ]
    },
    {
     "name": "stderr",
     "output_type": "stream",
     "text": [
      "[status]\tParallel glmnet cv with 10 cores\n"
     ]
    },
    {
     "name": "stdout",
     "output_type": "stream",
     "text": [
      "Refitting with best lambda on whole training set\n",
      "Using 10 sequential folds for cross-validation\n"
     ]
    },
    {
     "name": "stderr",
     "output_type": "stream",
     "text": [
      "[status]\tParallel glmnet cv with 10 cores\n"
     ]
    },
    {
     "name": "stdout",
     "output_type": "stream",
     "text": [
      "Refitting with best lambda on whole training set\n",
      "Using 10 sequential folds for cross-validation\n"
     ]
    },
    {
     "name": "stderr",
     "output_type": "stream",
     "text": [
      "[status]\tParallel glmnet cv with 10 cores\n"
     ]
    },
    {
     "name": "stdout",
     "output_type": "stream",
     "text": [
      "Refitting with best lambda on whole training set\n",
      "Using 10 sequential folds for cross-validation\n"
     ]
    },
    {
     "name": "stderr",
     "output_type": "stream",
     "text": [
      "[status]\tParallel glmnet cv with 10 cores\n"
     ]
    },
    {
     "name": "stdout",
     "output_type": "stream",
     "text": [
      "Refitting with best lambda on whole training set\n",
      "Using 10 sequential folds for cross-validation\n"
     ]
    },
    {
     "name": "stderr",
     "output_type": "stream",
     "text": [
      "[status]\tParallel glmnet cv with 10 cores\n"
     ]
    },
    {
     "name": "stdout",
     "output_type": "stream",
     "text": [
      "Refitting with best lambda on whole training set\n",
      "Using 10 sequential folds for cross-validation\n"
     ]
    },
    {
     "name": "stderr",
     "output_type": "stream",
     "text": [
      "[status]\tParallel glmnet cv with 10 cores\n"
     ]
    },
    {
     "name": "stdout",
     "output_type": "stream",
     "text": [
      "Refitting with best lambda on whole training set\n",
      "[0.4682102245059006, 0.47400384174639504, 0.4622965626925786, 0.469275157081933, 0.46096343991818023, 0.47112922428386994, 0.4672439336936833, 0.4727721256036528, 0.4737993923863963, 0.4714265485790933]\n",
      "Checking CVGLMnet_tfh fits are the same as the originals...\n",
      "All OK\n"
     ]
    }
   ],
   "source": [
    "# check that loading fits works and gives sames results\n",
    "print('Loading fits from pickle...')\n",
    "with open('results.pkl', 'rb') as pkl:\n",
    "    loaded_fits = pickle.load(pkl)\n",
    "print('Done')\n",
    "\n",
    "print('Checking loaded fits are the same as the originals...')\n",
    "train_scores_check = []\n",
    "test_scores_check = []\n",
    "for (train_idx, test_idx), fit in zip(folds, loaded_fits):\n",
    "    cvglm_check = CVGLMnet(fit)\n",
    "    train_scores_check.append(cvglm_check.score(X_t_fh[train_idx, :], y[train_idx]))\n",
    "    test_scores_check.append(cvglm_check.score(X_t_fh[test_idx, :], y[test_idx]))\n",
    "print(train_scores_check)\n",
    "\n",
    "assert(all([(a-b)<1e-12 for a,b in zip(train_scores, train_scores_check)]))\n",
    "assert(all([(a-b)<1e-12 for a,b in zip(test_scores, test_scores_check)]))\n",
    "print('All OK')\n",
    "\n",
    "# check that CVGLMnet_tfh gives same results as CVGLMnet\n",
    "print('Fitting with CVGLMnet_tfh...')\n",
    "\n",
    "cvglm_tfh = CVGLMnet_tfh()\n",
    "\n",
    "train_scores_tfh = []\n",
    "test_scores_tfh = []\n",
    "for (train_idx, test_idx), fit in zip(folds, loaded_fits):\n",
    "    cvglm_tfh.fit(X_tfh[train_idx,:,:], y[train_idx])\n",
    "    train_scores_tfh.append(cvglm_tfh.score(X_tfh[train_idx,:,:], y[train_idx]))\n",
    "    test_scores_tfh.append(cvglm_tfh.score(X_tfh[test_idx,:,:], y[test_idx]))\n",
    "print(train_scores_check)\n",
    "\n",
    "print('Checking CVGLMnet_tfh fits are the same as the originals...')\n",
    "assert(all([(a-b)<1e-12 for a,b in zip(train_scores, train_scores_tfh)]))\n",
    "assert(all([(a-b)<1e-12 for a,b in zip(test_scores, test_scores_tfh)]))\n",
    "print('All OK')"
   ]
  },
  {
   "cell_type": "code",
   "execution_count": null,
   "id": "a665458b",
   "metadata": {},
   "outputs": [],
   "source": [
    "if False:\n",
    "    from csv import writer\n",
    "    from hierarchy import *\n",
    "\n",
    "    clusters = Clusters()\n",
    "\n",
    "    n_h = 8\n",
    "\n",
    "    segments = clusters.stimulus.X_tf\n",
    "    y_t = clusters.clusters[0]['y_t']\n",
    "    X_tfh = tensorize_segments(segments, n_h=n_h)\n",
    "    n_t, n_f = X_tfh.shape[:2]\n",
    "    X_t_fh = X_tfh.reshape(X_tfh.shape[0], -1)\n",
    "    \n",
    "    with open('cvglmnet_test_X.csv', 'w') as csvfile:\n",
    "        wrtr = writer(csvfile)\n",
    "        for row in X_t_fh:\n",
    "            wrtr.writerow(row)\n",
    "\n",
    "    with open('cvglmnet_test_y.csv', 'w') as csvfile:\n",
    "        wrtr = writer(csvfile)\n",
    "        wrtr.writerow(y_t.T)"
   ]
  }
 ],
 "metadata": {
  "kernelspec": {
   "display_name": "Python 3 (ipykernel)",
   "language": "python",
   "name": "python3"
  },
  "language_info": {
   "codemirror_mode": {
    "name": "ipython",
    "version": 3
   },
   "file_extension": ".py",
   "mimetype": "text/x-python",
   "name": "python",
   "nbconvert_exporter": "python",
   "pygments_lexer": "ipython3",
   "version": "3.9.16"
  }
 },
 "nbformat": 4,
 "nbformat_minor": 5
}
